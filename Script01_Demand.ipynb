{
 "cells": [
  {
   "cell_type": "markdown",
   "id": "e375cfc4",
   "metadata": {},
   "source": [
    "# Main Code for Demand "
   ]
  },
  {
   "cell_type": "code",
   "execution_count": 3,
   "id": "46950d86",
   "metadata": {},
   "outputs": [],
   "source": [
    "import pandas as pd\n",
    "import os\n",
    "from openpyxl import Workbook\n",
    "from openpyxl.styles import Font, NamedStyle, Border, Side, PatternFill"
   ]
  },
  {
   "cell_type": "code",
   "execution_count": 4,
   "id": "89a49763",
   "metadata": {},
   "outputs": [],
   "source": [
    "# Input Demand Raw Data file\n",
    "cwd = os.getcwd()\n",
    "file_path = os.path.join(cwd, \"client_data\", \"Demand.xlsx\")"
   ]
  },
  {
   "cell_type": "code",
   "execution_count": 5,
   "id": "52f56a24",
   "metadata": {},
   "outputs": [
    {
     "name": "stdout",
     "output_type": "stream",
     "text": [
      "/workspaces/Factory-Production-June/client_data/Demand.xlsx\n"
     ]
    }
   ],
   "source": [
    "#Verifying file path\n",
    "print(file_path)"
   ]
  },
  {
   "cell_type": "code",
   "execution_count": 6,
   "id": "adb7e1eb",
   "metadata": {},
   "outputs": [],
   "source": [
    "df_raw=pd.read_excel(file_path, skiprows=2)\n",
    "df_with_ret_flag = df_raw.copy()\n",
    "df_with_ret_flag= df_with_ret_flag.iloc[:, :-5]\n",
    "df_with_ret_flag['Ret_Flag'] = df_with_ret_flag['Unified code'].apply(lambda x: 0 if x == 'No code' else 1)\n",
    "filtered_df = df_with_ret_flag[~df_with_ret_flag['Origin'].isin(['Other', 'nan','NaN'])]"
   ]
  },
  {
   "cell_type": "code",
   "execution_count": 7,
   "id": "1ecbd8fb",
   "metadata": {},
   "outputs": [],
   "source": [
    "filtered_df['Country'] = filtered_df['Geography'] + '_' + filtered_df['Market']"
   ]
  },
  {
   "cell_type": "code",
   "execution_count": 8,
   "id": "f0d8cdf6",
   "metadata": {},
   "outputs": [],
   "source": [
    "df_melted = filtered_df.melt(id_vars=['Geography','Market','Market system','Channel','Channel - Customer','Origin','Country','Unified code','Code','Description','UM','Ret_Flag'], var_name='Months', value_name='Demand')\n",
    "#df_melted.to_excel(\"test2.xlsx\")"
   ]
  },
  {
   "cell_type": "code",
   "execution_count": 9,
   "id": "9f17e3d4",
   "metadata": {},
   "outputs": [],
   "source": [
    "df_demand2 = df_melted.groupby(['Country', 'Origin','Unified code','UM', 'Ret_Flag','Months'])['Demand'].sum().reset_index()\n",
    "df_demand2.to_excel(\"Actual_Production_w_Factory.xlsx\")"
   ]
  },
  {
   "cell_type": "code",
   "execution_count": 10,
   "id": "a362965f",
   "metadata": {},
   "outputs": [],
   "source": [
    "df_demand = df_melted.groupby(['Country', 'Unified code','UM', 'Ret_Flag','Months'])['Demand'].sum().reset_index()\n",
    "#df_demand.to_excel(\"test3.xlsx\")"
   ]
  },
  {
   "cell_type": "code",
   "execution_count": 11,
   "id": "d6e36530",
   "metadata": {},
   "outputs": [
    {
     "name": "stdout",
     "output_type": "stream",
     "text": [
      "Total demand before grouping: 11278430.4444088\n",
      "Total demand after grouping: 11278430.4444088\n"
     ]
    }
   ],
   "source": [
    "##Quality Check - If this fails the data preparation is incorrect\n",
    "# Total demand before grouping\n",
    "total_demand_before = df_melted['Demand'].sum()\n",
    "print(\"Total demand before grouping:\", total_demand_before)\n",
    "\n",
    "# Total demand after grouping\n",
    "total_demand_after = df_demand['Demand'].sum()\n",
    "print(\"Total demand after grouping:\", total_demand_after)"
   ]
  },
  {
   "cell_type": "code",
   "execution_count": 12,
   "id": "709b4795",
   "metadata": {},
   "outputs": [],
   "source": [
    "# Update retention flag\n",
    "df_demand['Ret_Flag'] = df_demand.apply(lambda x: 0 if x['Demand'] < 1 else x['Ret_Flag'], axis=1)\n",
    "# Display the DataFrame with updated 'Ret_Flag' column\n",
    "column_order = ['Unified code', 'Country', 'Months','UM', 'Demand', 'Ret_Flag']\n",
    "# Reorder columns in df_demand\n",
    "df_demand = df_demand[column_order]\n",
    "df_demand.columns=['FGSKUCode', 'Country', 'Month','UM', 'Demand', 'Ret_Flag']\n",
    "df_demand['Month'] = pd.to_datetime(df_demand['Month']).dt.month"
   ]
  },
  {
   "cell_type": "markdown",
   "id": "0bebaa8b",
   "metadata": {},
   "source": [
    "# QC"
   ]
  },
  {
   "cell_type": "code",
   "execution_count": 13,
   "id": "9a01c5a0",
   "metadata": {},
   "outputs": [
    {
     "data": {
      "text/html": [
       "<div>\n",
       "<style scoped>\n",
       "    .dataframe tbody tr th:only-of-type {\n",
       "        vertical-align: middle;\n",
       "    }\n",
       "\n",
       "    .dataframe tbody tr th {\n",
       "        vertical-align: top;\n",
       "    }\n",
       "\n",
       "    .dataframe thead th {\n",
       "        text-align: right;\n",
       "    }\n",
       "</style>\n",
       "<table border=\"1\" class=\"dataframe\">\n",
       "  <thead>\n",
       "    <tr style=\"text-align: right;\">\n",
       "      <th></th>\n",
       "      <th>Count</th>\n",
       "      <th>Distinct Values</th>\n",
       "      <th>Null Count</th>\n",
       "      <th>Mean</th>\n",
       "      <th>Std</th>\n",
       "      <th>Minimum Value</th>\n",
       "      <th>Percentile Distribution (25%)</th>\n",
       "      <th>Percentile Distribution (50%)</th>\n",
       "      <th>Percentile Distribution (75%)</th>\n",
       "      <th>Maximum Value</th>\n",
       "    </tr>\n",
       "  </thead>\n",
       "  <tbody>\n",
       "    <tr>\n",
       "      <th>Country</th>\n",
       "      <td>14820</td>\n",
       "      <td>22</td>\n",
       "      <td>0</td>\n",
       "      <td>NaN</td>\n",
       "      <td>NaN</td>\n",
       "      <td>NaN</td>\n",
       "      <td>NaN</td>\n",
       "      <td>NaN</td>\n",
       "      <td>NaN</td>\n",
       "      <td>NaN</td>\n",
       "    </tr>\n",
       "    <tr>\n",
       "      <th>Demand</th>\n",
       "      <td>14820</td>\n",
       "      <td>7792</td>\n",
       "      <td>0</td>\n",
       "      <td>7.610277e+02</td>\n",
       "      <td>3.223060e+03</td>\n",
       "      <td>-1.174200e+02</td>\n",
       "      <td>0.000000e+00</td>\n",
       "      <td>6.549663e+01</td>\n",
       "      <td>4.500000e+02</td>\n",
       "      <td>8.270711e+04</td>\n",
       "    </tr>\n",
       "    <tr>\n",
       "      <th>FGSKUCode</th>\n",
       "      <td>14820</td>\n",
       "      <td>551</td>\n",
       "      <td>0</td>\n",
       "      <td>4.002448e+09</td>\n",
       "      <td>2.874489e+07</td>\n",
       "      <td>4.001031e+09</td>\n",
       "      <td>4.001370e+09</td>\n",
       "      <td>4.001371e+09</td>\n",
       "      <td>4.001972e+09</td>\n",
       "      <td>5.011999e+09</td>\n",
       "    </tr>\n",
       "    <tr>\n",
       "      <th>Month</th>\n",
       "      <td>14820</td>\n",
       "      <td>12</td>\n",
       "      <td>0</td>\n",
       "      <td>6.500000e+00</td>\n",
       "      <td>3.452169e+00</td>\n",
       "      <td>1.000000e+00</td>\n",
       "      <td>3.750000e+00</td>\n",
       "      <td>6.500000e+00</td>\n",
       "      <td>9.250000e+00</td>\n",
       "      <td>1.200000e+01</td>\n",
       "    </tr>\n",
       "    <tr>\n",
       "      <th>Ret_Flag</th>\n",
       "      <td>14820</td>\n",
       "      <td>2</td>\n",
       "      <td>0</td>\n",
       "      <td>6.943995e-01</td>\n",
       "      <td>4.606769e-01</td>\n",
       "      <td>0.000000e+00</td>\n",
       "      <td>0.000000e+00</td>\n",
       "      <td>1.000000e+00</td>\n",
       "      <td>1.000000e+00</td>\n",
       "      <td>1.000000e+00</td>\n",
       "    </tr>\n",
       "    <tr>\n",
       "      <th>UM</th>\n",
       "      <td>14820</td>\n",
       "      <td>3</td>\n",
       "      <td>0</td>\n",
       "      <td>NaN</td>\n",
       "      <td>NaN</td>\n",
       "      <td>NaN</td>\n",
       "      <td>NaN</td>\n",
       "      <td>NaN</td>\n",
       "      <td>NaN</td>\n",
       "      <td>NaN</td>\n",
       "    </tr>\n",
       "  </tbody>\n",
       "</table>\n",
       "</div>"
      ],
      "text/plain": [
       "           Count  Distinct Values  Null Count          Mean           Std  \\\n",
       "Country    14820               22           0           NaN           NaN   \n",
       "Demand     14820             7792           0  7.610277e+02  3.223060e+03   \n",
       "FGSKUCode  14820              551           0  4.002448e+09  2.874489e+07   \n",
       "Month      14820               12           0  6.500000e+00  3.452169e+00   \n",
       "Ret_Flag   14820                2           0  6.943995e-01  4.606769e-01   \n",
       "UM         14820                3           0           NaN           NaN   \n",
       "\n",
       "           Minimum Value  Percentile Distribution (25%)  \\\n",
       "Country              NaN                            NaN   \n",
       "Demand     -1.174200e+02                   0.000000e+00   \n",
       "FGSKUCode   4.001031e+09                   4.001370e+09   \n",
       "Month       1.000000e+00                   3.750000e+00   \n",
       "Ret_Flag    0.000000e+00                   0.000000e+00   \n",
       "UM                   NaN                            NaN   \n",
       "\n",
       "           Percentile Distribution (50%)  Percentile Distribution (75%)  \\\n",
       "Country                              NaN                            NaN   \n",
       "Demand                      6.549663e+01                   4.500000e+02   \n",
       "FGSKUCode                   4.001371e+09                   4.001972e+09   \n",
       "Month                       6.500000e+00                   9.250000e+00   \n",
       "Ret_Flag                    1.000000e+00                   1.000000e+00   \n",
       "UM                                   NaN                            NaN   \n",
       "\n",
       "           Maximum Value  \n",
       "Country              NaN  \n",
       "Demand      8.270711e+04  \n",
       "FGSKUCode   5.011999e+09  \n",
       "Month       1.200000e+01  \n",
       "Ret_Flag    1.000000e+00  \n",
       "UM                   NaN  "
      ]
     },
     "execution_count": 13,
     "metadata": {},
     "output_type": "execute_result"
    }
   ],
   "source": [
    "# Get the number of distinct values for each column\n",
    "distinct_counts = df_demand.nunique()\n",
    "\n",
    "# Get the number of null values for each column\n",
    "null_counts = df_demand.isnull().sum()\n",
    "counts=df_demand.count()\n",
    "# Get the count, mean, std, min, and percentile distribution for each column\n",
    "summary_stats = df_demand.describe(percentiles=[0.25, 0.5, 0.75]).transpose()\n",
    "\n",
    "# Combine all the results into a single DataFrame\n",
    "result_df = pd.DataFrame({\n",
    "    'Count':counts,\n",
    "    'Distinct Values': distinct_counts,\n",
    "    'Null Count': null_counts,\n",
    "    'Mean': summary_stats['mean'],\n",
    "    'Std': summary_stats['std'],\n",
    "    'Minimum Value': summary_stats['min'],\n",
    "    'Percentile Distribution (25%)': summary_stats['25%'],\n",
    "    'Percentile Distribution (50%)': summary_stats['50%'],\n",
    "    'Percentile Distribution (75%)': summary_stats['75%'],\n",
    "    'Maximum Value': summary_stats['max']\n",
    "})\n",
    "\n",
    "\n",
    "\n",
    "result_df"
   ]
  },
  {
   "cell_type": "markdown",
   "id": "98f32cab",
   "metadata": {},
   "source": [
    "# FG SKU COUNTS"
   ]
  },
  {
   "cell_type": "code",
   "execution_count": 14,
   "id": "8df8c3cb",
   "metadata": {},
   "outputs": [],
   "source": [
    "df_raw_check1=df_raw['Unified code'].nunique()\n",
    "df_demand_check1=df_demand['FGSKUCode'].nunique()\n",
    "df_month_demand_ret_1 = df_demand[df_demand['Ret_Flag'] == 1]\n",
    "df_month_demand_ret_1=df_month_demand_ret_1['FGSKUCode'].nunique()"
   ]
  },
  {
   "cell_type": "markdown",
   "id": "565bb4dd",
   "metadata": {},
   "source": [
    "# VOLUME(CARTONS)"
   ]
  },
  {
   "cell_type": "code",
   "execution_count": 15,
   "id": "60bf4615",
   "metadata": {},
   "outputs": [],
   "source": [
    "df_raw_carton=df_raw[df_raw['UM'] == 'CARTON']\n",
    "total_volume = df_raw_carton.iloc[:, 11:23].sum().sum()\n",
    "\n",
    "df_demand_carton=df_demand[df_demand['UM'] == 'CARTON']\n",
    "df_demand_carton_check2=df_demand_carton['Demand'].sum().sum()\n",
    "\n",
    "df_demand_carton_ret_1 = df_demand_carton[df_demand_carton['Ret_Flag'] == 1]\n",
    "df_demand_carton_ret_1=df_demand_carton_ret_1['Demand'].sum().sum()\n"
   ]
  },
  {
   "cell_type": "markdown",
   "id": "3088a3af",
   "metadata": {},
   "source": [
    "# VOLUME(KG)"
   ]
  },
  {
   "cell_type": "code",
   "execution_count": 16,
   "id": "17be34e2",
   "metadata": {},
   "outputs": [],
   "source": [
    "df_raw_carton=df_raw[df_raw['UM'] == 'KILO GRAM']\n",
    "total_volume_kg = df_raw_carton.iloc[:, 11:23].sum().sum()\n",
    "\n",
    "df_demand_kg=df_demand[df_demand['UM'] == 'KILO GRAM']\n",
    "df_demand_kg_check2=df_demand_kg['Demand'].sum().sum()\n",
    "\n",
    "df_demand_kg_ret_1 = df_demand_kg[df_demand_kg['Ret_Flag'] == 1]\n",
    "df_demand_kg_ret_1=df_demand_kg_ret_1['Demand'].sum().sum()"
   ]
  },
  {
   "cell_type": "code",
   "execution_count": 17,
   "id": "7fcfbb6a",
   "metadata": {},
   "outputs": [
    {
     "name": "stdout",
     "output_type": "stream",
     "text": [
      "                  Initial Value(Raw data)  Manufactured Value  Solver Input (Ret_Flag=1)\n",
      "FGSKU                              551.00              551.00                     551.00\n",
      "Volume (cartons)            10,207,064.01       11,077,708.85              11,077,837.49\n",
      "Volume (kgs)                   136,189.07          158,211.31                 158,211.31\n"
     ]
    }
   ],
   "source": [
    "#Storing result in a single df\n",
    "result_df_1 = pd.DataFrame({\n",
    "    'Initial Value(Raw data)': [df_raw_check1,total_volume,total_volume_kg],\n",
    "    'Manufactured Value': [df_demand_check1,df_demand_carton_check2,df_demand_kg_check2],\n",
    "    'Solver Input (Ret_Flag=1)': [df_month_demand_ret_1,df_demand_carton_ret_1,df_demand_kg_ret_1]\n",
    "}, index=['FGSKU','Volume (cartons)','Volume (kgs)'])\n",
    "\n",
    "# Display the result \n",
    "print(result_df_1.to_string(float_format='{:,.2f}'.format))"
   ]
  },
  {
   "cell_type": "code",
   "execution_count": 18,
   "id": "863d08fa",
   "metadata": {},
   "outputs": [],
   "source": [
    "#for saving output in a new excel\n",
    "dfs = [df_demand, result_df, result_df_1]\n",
    "# Create a new Excel workbook\n",
    "wb = Workbook()\n",
    "\n",
    "# Remove default sheet created by openpyxl\n",
    "default_sheet = wb['Sheet']\n",
    "wb.remove(default_sheet)\n",
    "\n",
    "# Create a named style for bold headings\n",
    "bold_style = NamedStyle(name='bold_style')\n",
    "bold_style.font = Font(bold=True, color='FFFFFF')  # Set font color to white\n",
    "\n",
    "# Define the desired sheet names\n",
    "sheet_names = ['Demand_output', 'QC_output']\n",
    "\n",
    "# Define blue fill\n",
    "blue_fill = PatternFill(start_color=\"4169E1\", end_color=\"4169E1\", fill_type=\"solid\")\n",
    "\n",
    "# Loop through each DataFrame and adding it to a new sheet in the workbook\n",
    "for df, sheet_name in zip(dfs, sheet_names):\n",
    "    # Creating a new sheet\n",
    "    ws = wb.create_sheet(title=sheet_name)\n",
    "\n",
    "    # Writing DataFrame to the sheet, starting from cell A1\n",
    "    \n",
    "    if sheet_name == 'Demand_output':\n",
    "        header_row = [str(col) for col in df.columns]\n",
    "        ws.append(header_row)\n",
    "        for idx, row in df.iterrows():\n",
    "            ws.append(row.tolist())\n",
    "        \n",
    "        for cell in ws[1]:\n",
    "            cell.style = bold_style\n",
    "            cell.fill = blue_fill\n",
    "            \n",
    "        for row in ws.iter_rows(min_row=1, max_row=ws.max_row, max_col=ws.max_column):\n",
    "            for cell in row:\n",
    "                cell.border = Border(left=Side(style='thin'),\n",
    "                                     right=Side(style='thin'),\n",
    "                                     top=Side(style='thin'),\n",
    "                                     bottom=Side(style='thin'))\n",
    "        ws.sheet_view.showGridLines = False\n",
    "        for col in ws.columns:\n",
    "            max_length = 0\n",
    "            for cell in col:\n",
    "                try:\n",
    "                    if len(str(cell.value)) > max_length:\n",
    "                        max_length = len(cell.value)\n",
    "                except:\n",
    "                    pass\n",
    "            adjusted_width = (max_length + 2) * 1.2\n",
    "            ws.column_dimensions[col[0].column_letter].width = adjusted_width\n",
    "    elif sheet_name == 'QC_output':\n",
    "        df = result_df\n",
    "        header_row = ['Column Name'] + [str(col) for col in df.columns]\n",
    "        ws.append(header_row)\n",
    "        for idx, row in df.iterrows():\n",
    "            ws.append([idx]+row.tolist())\n",
    "        for cell in ws[1]:\n",
    "            cell.style = bold_style\n",
    "            cell.fill = blue_fill\n",
    "            \n",
    "        for row in ws.iter_rows(min_row=1, max_row=ws.max_row, max_col=ws.max_column):\n",
    "            for cell in row:\n",
    "                cell.border = Border(left=Side(style='thin'),\n",
    "                                     right=Side(style='thin'),\n",
    "                                     top=Side(style='thin'),\n",
    "                                     bottom=Side(style='thin'))\n",
    "        for col in ws.columns:\n",
    "            max_length = 0\n",
    "            for cell in col:\n",
    "                try:\n",
    "                    if len(str(cell.value)) > max_length:\n",
    "                        max_length = len(cell.value)\n",
    "                except:\n",
    "                    pass\n",
    "            adjusted_width = (max_length + 2) * 1.2\n",
    "            ws.column_dimensions[col[0].column_letter].width = adjusted_width\n",
    "\n",
    "        for _ in range(5):\n",
    "            ws.append([])\n",
    "            \n",
    "        df = result_df_1\n",
    "        header_row = ['Data'] + [str(col) for col in df.columns]\n",
    "        ws.append(header_row)\n",
    "        for idx, row in df.iterrows():\n",
    "            ws.append([idx]+row.tolist())\n",
    "            \n",
    "        for idx, cell in enumerate(ws[13], start=1):\n",
    "                if idx <= 4:\n",
    "                    cell.style = bold_style\n",
    "                    cell.fill = blue_fill\n",
    "                    \n",
    "        for row in ws.iter_rows(min_row=13, max_row=16, max_col=4):\n",
    "            for cell in row:\n",
    "                cell.border = Border(left=Side(style='thin'),\n",
    "                                     right=Side(style='thin'),\n",
    "                                     top=Side(style='thin'),\n",
    "                                     bottom=Side(style='thin'))\n",
    "        ws.sheet_view.showGridLines = False\n",
    "        for col in ws.columns:\n",
    "            max_length = 0\n",
    "            for cell in col:\n",
    "                try:\n",
    "                    if len(str(cell.value)) > max_length:\n",
    "                        max_length = len(cell.value)\n",
    "                except:\n",
    "                    pass\n",
    "            adjusted_width = (max_length + 2) * 1.2\n",
    "            ws.column_dimensions[col[0].column_letter].width = adjusted_width"
   ]
  },
  {
   "cell_type": "code",
   "execution_count": 19,
   "id": "9b2ccfbe-320f-41db-9677-bfdd173f52d2",
   "metadata": {},
   "outputs": [],
   "source": [
    "# Save the workbook by changing the name as required\n",
    "wb.save('03-06-2024_Demand_Automation.xlsx')"
   ]
  },
  {
   "cell_type": "code",
   "execution_count": 20,
   "id": "bbab3adf",
   "metadata": {},
   "outputs": [
    {
     "data": {
      "text/plain": [
       "(14820, 6)"
      ]
     },
     "execution_count": 20,
     "metadata": {},
     "output_type": "execute_result"
    }
   ],
   "source": [
    "df_demand.shape"
   ]
  },
  {
   "cell_type": "code",
   "execution_count": null,
   "id": "51de852d",
   "metadata": {},
   "outputs": [],
   "source": []
  },
  {
   "cell_type": "code",
   "execution_count": null,
   "id": "400f1cb4-8f3d-4585-917a-ca353b306e23",
   "metadata": {},
   "outputs": [],
   "source": []
  }
 ],
 "metadata": {
  "kernelspec": {
   "display_name": "Python 3",
   "language": "python",
   "name": "python3"
  },
  "language_info": {
   "codemirror_mode": {
    "name": "ipython",
    "version": 3
   },
   "file_extension": ".py",
   "mimetype": "text/x-python",
   "name": "python",
   "nbconvert_exporter": "python",
   "pygments_lexer": "ipython3",
   "version": "3.12.1"
  }
 },
 "nbformat": 4,
 "nbformat_minor": 5
}
