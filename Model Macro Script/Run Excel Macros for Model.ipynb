{
 "cells": [
  {
   "cell_type": "code",
   "execution_count": 2,
   "id": "74ac9125",
   "metadata": {},
   "outputs": [],
   "source": [
    "import win32com.client\n",
    "import os\n",
    "import shutil\n",
    "from datetime import datetime\n",
    "import pythoncom\n",
    "import time\n",
    "from IPython.display import display, clear_output\n",
    "import gc\n",
    "\n",
    "def run_excel_macro(file_path, macros):\n",
    "    pythoncom.CoInitialize()\n",
    "    xl = None\n",
    "    wb = None\n",
    "    \n",
    "    try:\n",
    "        xl = win32com.client.DispatchEx('Excel.Application')\n",
    "        xl.Visible = False\n",
    "        xl.DisplayAlerts = False\n",
    "        xl.EnableEvents = False\n",
    "        xl.ScreenUpdating = False\n",
    "        \n",
    "        wb = xl.Workbooks.Open(file_path, UpdateLinks=False, ReadOnly=False)\n",
    "        xl.Calculation = win32com.client.constants.xlManual\n",
    "        \n",
    "        for i, macro in enumerate(macros, 1):\n",
    "            start_time = time.time()\n",
    "            xl.Application.Run(macro)\n",
    "            end_time = time.time()\n",
    "            \n",
    "            clear_output(wait=True)\n",
    "            print(f\"Completed {i}/{len(macros)}: {macro} in {end_time - start_time:.2f} seconds\")\n",
    "            print(\"Macros completed:\")\n",
    "            print(\" \".join([\"✓\" if j < i else \"□\" for j in range(len(macros))]))\n",
    "        \n",
    "        print(\"\\nSaving workbook...\")\n",
    "        save_start = time.time()\n",
    "        wb.SaveAs(file_path, ConflictResolution=win32com.client.constants.xlLocalSessionChanges)\n",
    "        save_end = time.time()\n",
    "        print(f\"Workbook saved in {save_end - save_start:.2f} seconds\")\n",
    "    \n",
    "    finally:\n",
    "        if wb is not None:\n",
    "            wb.Close(SaveChanges=False)\n",
    "        if xl is not None:\n",
    "            xl.Quit()\n",
    "        pythoncom.CoUninitialize()\n",
    "        \n",
    "        # Force garbage collection\n",
    "        wb = None\n",
    "        xl = None\n",
    "        gc.collect()"
   ]
  },
  {
   "cell_type": "code",
   "execution_count": 3,
   "id": "edd0208e",
   "metadata": {},
   "outputs": [],
   "source": [
    "# Define file paths\n",
    "original_file = r'C:\\Users\\Sumedha\\Desktop\\Factory Production Update 2025\\Model Run - Budget 2025 - 12 Dec\\Update Model\\Model_File.xlsm'\n",
    "backup_folder = r'C:\\Users\\Sumedha\\Desktop\\Factory Production Update 2025\\Model Run - Budget 2025 - 12 Dec\\Update Model\\Backups'\n",
    "timestamp = datetime.now().strftime(\"%Y%m%d_%H%M%S\")\n",
    "backup_file = os.path.join(backup_folder, f'Model_File_v02_backup_{timestamp}.xlsm')\n",
    "\n",
    "# Create backup folder if it doesn't exist\n",
    "os.makedirs(backup_folder, exist_ok=True)\n",
    "\n",
    "# Create a copy of the original file\n",
    "shutil.copy2(original_file, backup_file)\n",
    "\n",
    "# Define macros to run\n",
    "macro_T01_T03 = ['Calc_T01_Demand_01_SumSupplyToDemand','Calc_T01_Demand_02_RowFormulae','Calc_T02_SecDist_01_RowFormulae','Calc_T03_PrimDist_01_RowFormulae']\n",
    "\n",
    "macro_T04 = ['Calc_T04_WHBal_01_WhOsAll','Calc_T04_WHBal_02_SumOBDFromWH','Calc_T04_WHBal_03_SumIBDToWH','Calc_T04_WHBal_04_RowFormulae']\n",
    "\n",
    "macro_T11 = ['Calc_T11_Prod_01_RowFormulae', 'Calc_T11A_FactProd_01_SumProdToPltLine', 'Calc_T12_FactProd_01_SumProdToPlt']\n",
    "macro_T12 = ['Calc_T12_FactProd_02_RowFormulae', 'Calc_T13_FactFGBal_01_PLTOsAll', 'Calc_T13_FactFGBal_02_SumProdFGBalance', 'Calc_T13_FactFGBal_03_SumIBDToPLT', 'Calc_T13_FactFGBal_04_RowFormulae']"
   ]
  },
  {
   "cell_type": "code",
   "execution_count": 4,
   "id": "01ec1152",
   "metadata": {},
   "outputs": [
    {
     "name": "stdout",
     "output_type": "stream",
     "text": [
      "Completed 4/4: Calc_T03_PrimDist_01_RowFormulae in 0.16 seconds\n",
      "Macros completed:\n",
      "✓ ✓ ✓ ✓\n",
      "\n",
      "Saving workbook...\n",
      "Workbook saved in 58.52 seconds\n",
      "\n",
      "Total execution time for first set of macros: 333.72 seconds\n"
     ]
    }
   ],
   "source": [
    "# Run Excel macros - T11 Prod part 1\n",
    "print(\"Running T01 to T03...\")\n",
    "start_time = time.time()\n",
    "run_excel_macro(backup_file, macro_T01_T03)\n",
    "end_time = time.time()\n",
    "print(f\"\\nTotal execution time for first set of macros: {end_time - start_time:.2f} seconds\")"
   ]
  },
  {
   "cell_type": "code",
   "execution_count": 5,
   "id": "8588084d",
   "metadata": {},
   "outputs": [
    {
     "name": "stdout",
     "output_type": "stream",
     "text": [
      "Completed 4/4: Calc_T04_WHBal_04_RowFormulae in 1.58 seconds\n",
      "Macros completed:\n",
      "✓ ✓ ✓ ✓\n",
      "\n",
      "Saving workbook...\n",
      "Workbook saved in 71.88 seconds\n",
      "\n",
      "Total execution time : 2345.85 seconds\n"
     ]
    }
   ],
   "source": [
    "# Run Excel macros - T11 Prod part 1\n",
    "print(\"Running T04...\")\n",
    "start_time = time.time()\n",
    "run_excel_macro(backup_file, macro_T04)\n",
    "end_time = time.time()\n",
    "print(f\"\\nTotal execution time : {end_time - start_time:.2f} seconds\")"
   ]
  },
  {
   "cell_type": "code",
   "execution_count": 6,
   "id": "e3dbd841",
   "metadata": {},
   "outputs": [
    {
     "name": "stdout",
     "output_type": "stream",
     "text": [
      "Completed 3/3: Calc_T12_FactProd_01_SumProdToPlt in 0.23 seconds\n",
      "Macros completed:\n",
      "✓ ✓ ✓\n",
      "\n",
      "Saving workbook...\n",
      "Workbook saved in 78.01 seconds\n",
      "\n",
      "Total execution time : 125.38 seconds\n"
     ]
    }
   ],
   "source": [
    "# Run Excel macros - T11 Prod part 1\n",
    "print(\"Running T04...\")\n",
    "start_time = time.time()\n",
    "run_excel_macro(backup_file, macro_T11)\n",
    "end_time = time.time()\n",
    "print(f\"\\nTotal execution time : {end_time - start_time:.2f} seconds\")"
   ]
  },
  {
   "cell_type": "code",
   "execution_count": 7,
   "id": "4b00be34",
   "metadata": {},
   "outputs": [
    {
     "name": "stdout",
     "output_type": "stream",
     "text": [
      "Completed 5/5: Calc_T13_FactFGBal_04_RowFormulae in 0.42 seconds\n",
      "Macros completed:\n",
      "✓ ✓ ✓ ✓ ✓\n",
      "\n",
      "Saving workbook...\n",
      "Workbook saved in 85.82 seconds\n",
      "\n",
      "Total execution time : 641.32 seconds\n"
     ]
    }
   ],
   "source": [
    "# Run Excel macros - T11 Prod part 1\n",
    "print(\"Running T04...\")\n",
    "start_time = time.time()\n",
    "run_excel_macro(backup_file, macro_T12)\n",
    "end_time = time.time()\n",
    "print(f\"\\nTotal execution time : {end_time - start_time:.2f} seconds\")"
   ]
  },
  {
   "cell_type": "code",
   "execution_count": 8,
   "id": "a2cfff5e",
   "metadata": {},
   "outputs": [],
   "source": [
    "RMFormulas = [\n",
    "    'Calc_T14_FactRMCons_01_SumProd1Prod2',\n",
    "    'Calc_T14_FactRMCons_02_RowFormulae',\n",
    "    'Calc_T15_RMTransfer_01_RowFormulae',\n",
    "    'Calc_T16_RMBal_01_RMOS',\n",
    "    'Calc_T16_RMBal_02_RMBal_Transfers',\n",
    "    'Calc_T16_RMBal_03_RMBal_Generate',\n",
    "    'Calc_T16_RMBal_04_RMBal_Consume',\n",
    "    'Calc_T16_RMBal_05_RowFormulae'\n",
    "]"
   ]
  },
  {
   "cell_type": "code",
   "execution_count": 9,
   "id": "979e2eb1",
   "metadata": {},
   "outputs": [
    {
     "name": "stdout",
     "output_type": "stream",
     "text": [
      "Completed 8/8: Calc_T16_RMBal_05_RowFormulae in 0.15 seconds\n",
      "Macros completed:\n",
      "✓ ✓ ✓ ✓ ✓ ✓ ✓ ✓\n",
      "\n",
      "Saving workbook...\n",
      "Workbook saved in 81.21 seconds\n",
      "\n",
      "Total execution time: 797.17 seconds\n"
     ]
    }
   ],
   "source": [
    "print(\"\\nRunning second set of macros for RM Formulas...\")\n",
    "start_time = time.time()\n",
    "run_excel_macro(backup_file, RMFormulas)\n",
    "end_time = time.time()\n",
    "print(f\"\\nTotal execution time: {end_time - start_time:.2f} seconds\")"
   ]
  },
  {
   "cell_type": "code",
   "execution_count": 10,
   "id": "1c03ec20",
   "metadata": {},
   "outputs": [
    {
     "name": "stdout",
     "output_type": "stream",
     "text": [
      "Completed 4/4: Calc_T23_LineTimeBalance_01_LineTime_Demand in 3.24 seconds\n",
      "Macros completed:\n",
      "✓ ✓ ✓ ✓\n",
      "\n",
      "Saving workbook...\n",
      "Workbook saved in 96.97 seconds\n",
      "\n",
      "Total execution time: 129.99 seconds\n"
     ]
    }
   ],
   "source": [
    "FactoryFormulas1 = [\n",
    "    'Calc_T21_FactShift_01_RowFormulae',\n",
    "    'Calc_T22_FactLabour_01_LabourOsAll',\n",
    "    'Calc_T22_FactLabour_01_RowFormulae',\n",
    "    'Calc_T23_LineTimeBalance_01_LineTime_Demand'\n",
    "]\n",
    "\n",
    "FactoryFormulas2 = [\n",
    "    'Calc_T23_LineTimeBalance_02_LineTime_Supply',\n",
    "    'Calc_T23_LineTimeBalance_03_RowFormulae',\n",
    "    'Calc_T24_LabourTimeBalance_01_Labourtime_Demand',\n",
    "    'Calc_T24_LabourTimeBalance_02_Labourtime_Supply'\n",
    "]\n",
    "\n",
    "print(\"\\nRunning second set of macros...\")\n",
    "start_time = time.time()\n",
    "run_excel_macro(backup_file, FactoryFormulas1)\n",
    "end_time = time.time()\n",
    "print(f\"\\nTotal execution time: {end_time - start_time:.2f} seconds\")"
   ]
  },
  {
   "cell_type": "code",
   "execution_count": 11,
   "id": "f7806c48",
   "metadata": {},
   "outputs": [
    {
     "name": "stdout",
     "output_type": "stream",
     "text": [
      "Completed 4/4: Calc_T24_LabourTimeBalance_02_Labourtime_Supply in 0.09 seconds\n",
      "Macros completed:\n",
      "✓ ✓ ✓ ✓\n",
      "\n",
      "Saving workbook...\n",
      "Workbook saved in 78.78 seconds\n",
      "\n",
      "Total execution time: 115.97 seconds\n"
     ]
    }
   ],
   "source": [
    "\n",
    "print(\"\\nRunning second set of macros...\")\n",
    "start_time = time.time()\n",
    "run_excel_macro(backup_file, FactoryFormulas2)\n",
    "end_time = time.time()\n",
    "print(f\"\\nTotal execution time: {end_time - start_time:.2f} seconds\")"
   ]
  },
  {
   "cell_type": "code",
   "execution_count": 12,
   "id": "9e2b1ad9",
   "metadata": {},
   "outputs": [
    {
     "name": "stdout",
     "output_type": "stream",
     "text": [
      "\n",
      "All macros executed and file saved without recalculation: C:\\Users\\Sumedha\\Desktop\\Factory Production Update 2025\\Model Run - Budget 2025 - 12 Dec\\Update Model\\Backups\\Model_File_v02_backup_20241212_160742.xlsm\n"
     ]
    },
    {
     "data": {
      "text/plain": [
       "0"
      ]
     },
     "execution_count": 12,
     "metadata": {},
     "output_type": "execute_result"
    }
   ],
   "source": [
    "print(f\"\\nAll macros executed and file saved without recalculation: {backup_file}\")\n",
    "# Force garbage collection again at the end\n",
    "gc.collect()"
   ]
  },
  {
   "cell_type": "code",
   "execution_count": null,
   "id": "a353091b",
   "metadata": {},
   "outputs": [],
   "source": []
  }
 ],
 "metadata": {
  "kernelspec": {
   "display_name": "Python 3 (ipykernel)",
   "language": "python",
   "name": "python3"
  },
  "language_info": {
   "codemirror_mode": {
    "name": "ipython",
    "version": 3
   },
   "file_extension": ".py",
   "mimetype": "text/x-python",
   "name": "python",
   "nbconvert_exporter": "python",
   "pygments_lexer": "ipython3",
   "version": "3.11.7"
  }
 },
 "nbformat": 4,
 "nbformat_minor": 5
}
